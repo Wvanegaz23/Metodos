{
  "cells": [
    {
      "cell_type": "markdown",
      "metadata": {
        "id": "-lA7kPil5-lL"
      },
      "source": [
        "# Analisis Expliratorio"
      ]
    },
    {
      "cell_type": "markdown",
      "metadata": {
        "id": "ExADH4-D6Hxh"
      },
      "source": [
        "##Importación de Librerias"
      ]
    },
    {
      "cell_type": "code",
      "execution_count": 1,
      "metadata": {
        "id": "48BpnZKV5aYX"
      },
      "outputs": [],
      "source": [
        "from dateutil.parser import parse \n",
        "import matplotlib as mpl\n",
        "import matplotlib.pyplot as plt\n",
        "import seaborn as sns\n",
        "import numpy as np\n",
        "import pandas as pd\n",
        "sns.set()\n",
        "from datetime import datetime, timedelta"
      ]
    },
    {
      "cell_type": "markdown",
      "metadata": {
        "id": "TfhvEAyq6LAR"
      },
      "source": [
        "## Importación de Base\n",
        "\n",
        "### Descripción detallada del Dataset.\n",
        "\n",
        "El dataset a trabajar se llama *FacturasSellOutRC* y esta guardado en el repositorio de [Github](https://raw.githubusercontent.com/Wvanegaz23/Metodos) y el cual tiene las ventas del primer semestre del año 2022 de la linea de chocolate de mesa de la red de venta de supermercados de la RedContigo, estrategia de la empresa Colombiana de comercio y la cual cuenta con aproximadamente 250 establecimientos a nivel nacional, este dataset esta compuesto de la ventas diarias y por horas de los primeros 6 meses del año 2022, con este dataset nuestro objetivo es poder crear un modelo de predicción utilizando Series de tiempo."
      ]
    },
    {
      "cell_type": "code",
      "execution_count": 2,
      "metadata": {
        "id": "6jCKOqda5dc4"
      },
      "outputs": [],
      "source": [
        "fact= pd.read_csv('https://raw.githubusercontent.com/Wvanegaz23/Metodos/main/FacturasSellOutRC.csv')\n",
        "fact1= pd.read_csv('https://raw.githubusercontent.com/Wvanegaz23/Metodos/main/FacturasSellOutRC1.csv')\n",
        "factOK = pd.concat([fact,fact1])"
      ]
    },
    {
      "cell_type": "markdown",
      "metadata": {},
      "source": [
        "**Exploración de la cabecera del DataFrame**"
      ]
    },
    {
      "cell_type": "code",
      "execution_count": 3,
      "metadata": {
        "id": "A1WvsuekBYfy"
      },
      "outputs": [
        {
          "data": {
            "text/html": [
              "<div>\n",
              "<style scoped>\n",
              "    .dataframe tbody tr th:only-of-type {\n",
              "        vertical-align: middle;\n",
              "    }\n",
              "\n",
              "    .dataframe tbody tr th {\n",
              "        vertical-align: top;\n",
              "    }\n",
              "\n",
              "    .dataframe thead th {\n",
              "        text-align: right;\n",
              "    }\n",
              "</style>\n",
              "<table border=\"1\" class=\"dataframe\">\n",
              "  <thead>\n",
              "    <tr style=\"text-align: right;\">\n",
              "      <th></th>\n",
              "      <th>LLAVE_CLIENTE</th>\n",
              "      <th>LLAVE_PRODUCTO</th>\n",
              "      <th>CANTIDAD</th>\n",
              "      <th>VALOR_UNITARIO</th>\n",
              "      <th>VALOR</th>\n",
              "      <th>FECHA_DOCUMENTO</th>\n",
              "      <th>DESCRIPCION_PRODUCTO</th>\n",
              "      <th>SUBLINEA</th>\n",
              "      <th>DESC_PROVEEDOR</th>\n",
              "      <th>MUNICIPIO</th>\n",
              "      <th>CIUDAD</th>\n",
              "      <th>DEPARTAMENTO</th>\n",
              "      <th>DIA_SEMANA</th>\n",
              "      <th>NOMBRE_MES</th>\n",
              "    </tr>\n",
              "  </thead>\n",
              "  <tbody>\n",
              "    <tr>\n",
              "      <th>0</th>\n",
              "      <td>2118326</td>\n",
              "      <td>17616079.0</td>\n",
              "      <td>1.0</td>\n",
              "      <td>5294.118</td>\n",
              "      <td>5294.118</td>\n",
              "      <td>2022-01-05 15:49:55</td>\n",
              "      <td>Chocolate Resellable Corona x 500G            ...</td>\n",
              "      <td>CORONA</td>\n",
              "      <td>Comercial Nutresa  S.A.S.</td>\n",
              "      <td>San Andres</td>\n",
              "      <td>BOGOTÁ D.C.</td>\n",
              "      <td>SANTAFE DE BOGOTA</td>\n",
              "      <td>Wednesday</td>\n",
              "      <td>January</td>\n",
              "    </tr>\n",
              "    <tr>\n",
              "      <th>1</th>\n",
              "      <td>2115963</td>\n",
              "      <td>17616079.0</td>\n",
              "      <td>1.0</td>\n",
              "      <td>6095.238</td>\n",
              "      <td>6095.238</td>\n",
              "      <td>2022-01-05 15:25:13</td>\n",
              "      <td>Chocolate Resellable Corona x 500G            ...</td>\n",
              "      <td>CORONA</td>\n",
              "      <td>Comercial Nutresa  S.A.S.</td>\n",
              "      <td>Cogua</td>\n",
              "      <td>COGUA</td>\n",
              "      <td>CUNDINAMARCA</td>\n",
              "      <td>Wednesday</td>\n",
              "      <td>January</td>\n",
              "    </tr>\n",
              "    <tr>\n",
              "      <th>2</th>\n",
              "      <td>21198847</td>\n",
              "      <td>17783859.0</td>\n",
              "      <td>1.0</td>\n",
              "      <td>5809.524</td>\n",
              "      <td>5809.524</td>\n",
              "      <td>2022-01-05 15:42:51</td>\n",
              "      <td>Chocolate Sol x 500GR                         ...</td>\n",
              "      <td>SOL</td>\n",
              "      <td>CASALUKER</td>\n",
              "      <td>Lisboa Occidental</td>\n",
              "      <td>BOGOTÁ D.C.</td>\n",
              "      <td>SANTAFE DE BOGOTA</td>\n",
              "      <td>Wednesday</td>\n",
              "      <td>January</td>\n",
              "    </tr>\n",
              "    <tr>\n",
              "      <th>3</th>\n",
              "      <td>2115565</td>\n",
              "      <td>17868388.0</td>\n",
              "      <td>1.0</td>\n",
              "      <td>3529.412</td>\n",
              "      <td>3529.412</td>\n",
              "      <td>2022-01-05 15:57:43</td>\n",
              "      <td>DON SABROSO TRADICIONAL 500G P16              ...</td>\n",
              "      <td>DON SABROSO</td>\n",
              "      <td>CASALUKER</td>\n",
              "      <td>La Fragua</td>\n",
              "      <td>SOACHA</td>\n",
              "      <td>CUNDINAMARCA</td>\n",
              "      <td>Wednesday</td>\n",
              "      <td>January</td>\n",
              "    </tr>\n",
              "    <tr>\n",
              "      <th>4</th>\n",
              "      <td>2115534</td>\n",
              "      <td>17616079.0</td>\n",
              "      <td>1.0</td>\n",
              "      <td>5428.571</td>\n",
              "      <td>5428.571</td>\n",
              "      <td>2022-01-05 15:54:53</td>\n",
              "      <td>Chocolate Resellable Corona x 500G            ...</td>\n",
              "      <td>CORONA</td>\n",
              "      <td>Comercial Nutresa  S.A.S.</td>\n",
              "      <td>Cundinamarca</td>\n",
              "      <td>BOGOTÁ D.C.</td>\n",
              "      <td>SANTAFE DE BOGOTA</td>\n",
              "      <td>Wednesday</td>\n",
              "      <td>January</td>\n",
              "    </tr>\n",
              "  </tbody>\n",
              "</table>\n",
              "</div>"
            ],
            "text/plain": [
              "   LLAVE_CLIENTE  LLAVE_PRODUCTO  CANTIDAD  VALOR_UNITARIO     VALOR  \\\n",
              "0        2118326      17616079.0       1.0        5294.118  5294.118   \n",
              "1        2115963      17616079.0       1.0        6095.238  6095.238   \n",
              "2       21198847      17783859.0       1.0        5809.524  5809.524   \n",
              "3        2115565      17868388.0       1.0        3529.412  3529.412   \n",
              "4        2115534      17616079.0       1.0        5428.571  5428.571   \n",
              "\n",
              "       FECHA_DOCUMENTO                               DESCRIPCION_PRODUCTO  \\\n",
              "0  2022-01-05 15:49:55  Chocolate Resellable Corona x 500G            ...   \n",
              "1  2022-01-05 15:25:13  Chocolate Resellable Corona x 500G            ...   \n",
              "2  2022-01-05 15:42:51  Chocolate Sol x 500GR                         ...   \n",
              "3  2022-01-05 15:57:43  DON SABROSO TRADICIONAL 500G P16              ...   \n",
              "4  2022-01-05 15:54:53  Chocolate Resellable Corona x 500G            ...   \n",
              "\n",
              "      SUBLINEA             DESC_PROVEEDOR          MUNICIPIO       CIUDAD  \\\n",
              "0       CORONA  Comercial Nutresa  S.A.S.         San Andres  BOGOTÁ D.C.   \n",
              "1       CORONA  Comercial Nutresa  S.A.S.              Cogua        COGUA   \n",
              "2          SOL                  CASALUKER  Lisboa Occidental  BOGOTÁ D.C.   \n",
              "3  DON SABROSO                  CASALUKER          La Fragua       SOACHA   \n",
              "4       CORONA  Comercial Nutresa  S.A.S.       Cundinamarca  BOGOTÁ D.C.   \n",
              "\n",
              "        DEPARTAMENTO DIA_SEMANA NOMBRE_MES  \n",
              "0  SANTAFE DE BOGOTA  Wednesday    January  \n",
              "1       CUNDINAMARCA  Wednesday    January  \n",
              "2  SANTAFE DE BOGOTA  Wednesday    January  \n",
              "3       CUNDINAMARCA  Wednesday    January  \n",
              "4  SANTAFE DE BOGOTA  Wednesday    January  "
            ]
          },
          "execution_count": 3,
          "metadata": {},
          "output_type": "execute_result"
        }
      ],
      "source": [
        "factOK.head()"
      ]
    },
    {
      "cell_type": "markdown",
      "metadata": {},
      "source": [
        "### Identificación explicita de las variables"
      ]
    },
    {
      "cell_type": "code",
      "execution_count": 7,
      "metadata": {},
      "outputs": [
        {
          "data": {
            "text/plain": [
              "Index(['LLAVE_CLIENTE', 'LLAVE_PRODUCTO', 'CANTIDAD', 'VALOR_UNITARIO',\n",
              "       'VALOR', 'FECHA_DOCUMENTO', 'DESCRIPCION_PRODUCTO', 'SUBLINEA',\n",
              "       'DESC_PROVEEDOR', 'MUNICIPIO', 'CIUDAD', 'DEPARTAMENTO', 'DIA_SEMANA',\n",
              "       'NOMBRE_MES'],\n",
              "      dtype='object')"
            ]
          },
          "execution_count": 7,
          "metadata": {},
          "output_type": "execute_result"
        }
      ],
      "source": [
        "factOK.columns #Número de varibles totales en el dataFrame"
      ]
    },
    {
      "cell_type": "code",
      "execution_count": 8,
      "metadata": {},
      "outputs": [
        {
          "data": {
            "text/plain": [
              "(238716, 14)"
            ]
          },
          "execution_count": 8,
          "metadata": {},
          "output_type": "execute_result"
        }
      ],
      "source": [
        "factOK.shape #Dimención total del dataFrame"
      ]
    },
    {
      "cell_type": "markdown",
      "metadata": {},
      "source": [
        "### El dataframe cuenta con 14 variables ###\n",
        " \n",
        "- **LLAVE_CLIENTE:** Dato que registra el código de los diferentes clientes que se registran en base.</p>\n",
        "- **LLAVE_PRODUCTO:** Dato que registra el código de los diferentes productos que se registran en base.</p>\n",
        "- **CANTIDAD:** Cantidad de las unidades vendidas en cada una de horas y días del reporte</p>\n",
        "- **VALOR_UNITARIO:** Valor que se registra del valor unitario de los datos de cada uno de los productos</p>\n",
        "- **VALOR** Valor que se calcula de los movimiento de cada linea la forma del calculo es el siguiente $$ Cantidad * Valor unitario $$</p>\n",
        "- **FECHA_DOCUMENTO** Fecha y hora del registro de cada venta registro del *01/01/2022 al 30/06/2022*</p>\n",
        "- **DESCRIPCION_PRODUCTO** Descripción de cada uno de los productos que se registran en la ventas</p>\n",
        "- **SUBLINEA:** Grupo de productos que comparten una misma marca</p>\n",
        "- **DESC_PROVEEDOR** Dato referente a cada uno de los diferentes proveedores de los productos</p>\n",
        "- **MUNICIPIO** En el registro de la base es el barrio en el que se hizo la venta</p>\n",
        "- **CIUDAD** Resgistro de la ciudad en la que se esta haciendo la venta</p>\n",
        "- **DEPARTAMENTO** Departamento en donde se esta registrando la venta</p>\n",
        "- **DIA_SEMANA** Día de la semana *(Lunes a Domingo)* en los que se esta registrando cada uno de los datos de venta</p>\n",
        "- **NOMBRE_MES** Meses de la del primer semestre  *(Enero 2022 a Junio 2022)* en los que se esta registrando cada uno de los datos de venta</p>"
      ]
    },
    {
      "cell_type": "markdown",
      "metadata": {},
      "source": [
        "### Para una correcta manipulación de los datos ###\n",
        "\n",
        "1. Se modificaron el tipo de datos de 3 Variables:\n",
        "- **LLAVE_CLIENTE:** La pasa de *int* a *str* por que no se van a hacer calculos con esos registros\n",
        "- **LLAVE_PRODUCTO:** La pasa de *int* a *str* por que no se van a hacer calculos con esos registros\n",
        "- **FECHA_DOCUMENTO:** Para el manejo de los datos de la serie de tiempo cambiamos el tipo de dato de *str* a *datatime*"
      ]
    },
    {
      "cell_type": "code",
      "execution_count": 9,
      "metadata": {
        "id": "4r2ni5f3kIRO"
      },
      "outputs": [],
      "source": [
        "factOK['LLAVE_CLIENTE'] =str(factOK['LLAVE_CLIENTE']) #Cambio de la variable LLAVE_CLIENTE que estaba como float a str\n",
        "factOK['LLAVE_PRODUCTO'] =str(factOK['LLAVE_PRODUCTO']) #Cambio de la variable LLAVE_PRODUCTO que estaba como float a str\n",
        "factOK['FECHA_DOCUMENTO'] = pd.to_datetime(factOK['FECHA_DOCUMENTO'], format = '%Y-%m-%d')"
      ]
    },
    {
      "cell_type": "markdown",
      "metadata": {},
      "source": [
        "## Información que contiene el dataframe ##"
      ]
    },
    {
      "cell_type": "code",
      "execution_count": 10,
      "metadata": {
        "id": "ysv8HGFkDXvl"
      },
      "outputs": [
        {
          "name": "stdout",
          "output_type": "stream",
          "text": [
            "<class 'pandas.core.frame.DataFrame'>\n",
            "Int64Index: 238716 entries, 0 to 134768\n",
            "Data columns (total 14 columns):\n",
            " #   Column                Non-Null Count   Dtype         \n",
            "---  ------                --------------   -----         \n",
            " 0   LLAVE_CLIENTE         238716 non-null  object        \n",
            " 1   LLAVE_PRODUCTO        238716 non-null  object        \n",
            " 2   CANTIDAD              238716 non-null  float64       \n",
            " 3   VALOR_UNITARIO        238716 non-null  float64       \n",
            " 4   VALOR                 238716 non-null  float64       \n",
            " 5   FECHA_DOCUMENTO       238716 non-null  datetime64[ns]\n",
            " 6   DESCRIPCION_PRODUCTO  238716 non-null  object        \n",
            " 7   SUBLINEA              238716 non-null  object        \n",
            " 8   DESC_PROVEEDOR        238716 non-null  object        \n",
            " 9   MUNICIPIO             238716 non-null  object        \n",
            " 10  CIUDAD                238716 non-null  object        \n",
            " 11  DEPARTAMENTO          238716 non-null  object        \n",
            " 12  DIA_SEMANA            238716 non-null  object        \n",
            " 13  NOMBRE_MES            238716 non-null  object        \n",
            "dtypes: datetime64[ns](1), float64(3), object(10)\n",
            "memory usage: 27.3+ MB\n"
          ]
        }
      ],
      "source": [
        "factOK.info()"
      ]
    },
    {
      "cell_type": "code",
      "execution_count": null,
      "metadata": {
        "id": "wZcwEOpHDqMq"
      },
      "outputs": [],
      "source": [
        "factOK[factOK['FECHA_DOCUMENTO'] == '2022-04-09 18:45:09']"
      ]
    },
    {
      "cell_type": "code",
      "execution_count": 11,
      "metadata": {
        "id": "qyYvv2g7pysl"
      },
      "outputs": [],
      "source": [
        "STiempo = factOK.pivot_table(\n",
        "    index = ['FECHA_DOCUMENTO','DIA_SEMANA','DESC_PROVEEDOR'],\n",
        "    aggfunc=np.sum,\n",
        "    fill_value=False)\n",
        "STiempo = STiempo.reset_index(level=['DIA_SEMANA','DESC_PROVEEDOR'])"
      ]
    },
    {
      "cell_type": "code",
      "execution_count": 12,
      "metadata": {
        "id": "dbkkt3RKrSgn"
      },
      "outputs": [
        {
          "name": "stdout",
          "output_type": "stream",
          "text": [
            "<class 'pandas.core.frame.DataFrame'>\n",
            "DatetimeIndex: 193888 entries, 2022-01-01 08:15:45 to 2022-06-30 22:46:02\n",
            "Data columns (total 5 columns):\n",
            " #   Column          Non-Null Count   Dtype  \n",
            "---  ------          --------------   -----  \n",
            " 0   DIA_SEMANA      193888 non-null  object \n",
            " 1   DESC_PROVEEDOR  193888 non-null  object \n",
            " 2   CANTIDAD        193888 non-null  float64\n",
            " 3   VALOR           193888 non-null  float64\n",
            " 4   VALOR_UNITARIO  193888 non-null  float64\n",
            "dtypes: float64(3), object(2)\n",
            "memory usage: 8.9+ MB\n"
          ]
        }
      ],
      "source": [
        "STiempo.info()"
      ]
    },
    {
      "cell_type": "code",
      "execution_count": null,
      "metadata": {
        "id": "OriOI-uarYx-"
      },
      "outputs": [],
      "source": [
        "STiempo.describe()"
      ]
    },
    {
      "cell_type": "code",
      "execution_count": 13,
      "metadata": {
        "id": "TS-3vAQKrjXM"
      },
      "outputs": [
        {
          "data": {
            "text/plain": [
              "DIA_SEMANA                         Saturday\n",
              "DESC_PROVEEDOR    Comercial Nutresa  S.A.S.\n",
              "CANTIDAD                              128.0\n",
              "VALOR                              49999.36\n",
              "VALOR_UNITARIO                       781.24\n",
              "Name: 2022-04-09 18:45:09, dtype: object"
            ]
          },
          "execution_count": 13,
          "metadata": {},
          "output_type": "execute_result"
        }
      ],
      "source": [
        "maximos = STiempo.loc[STiempo[\"CANTIDAD\"].idxmax()]\n",
        "maximos"
      ]
    },
    {
      "cell_type": "code",
      "execution_count": 14,
      "metadata": {
        "id": "qKh_tSRmDegd"
      },
      "outputs": [
        {
          "data": {
            "text/html": [
              "<div>\n",
              "<style scoped>\n",
              "    .dataframe tbody tr th:only-of-type {\n",
              "        vertical-align: middle;\n",
              "    }\n",
              "\n",
              "    .dataframe tbody tr th {\n",
              "        vertical-align: top;\n",
              "    }\n",
              "\n",
              "    .dataframe thead th {\n",
              "        text-align: right;\n",
              "    }\n",
              "</style>\n",
              "<table border=\"1\" class=\"dataframe\">\n",
              "  <thead>\n",
              "    <tr style=\"text-align: right;\">\n",
              "      <th></th>\n",
              "      <th>DIA_SEMANA</th>\n",
              "      <th>DESC_PROVEEDOR</th>\n",
              "      <th>CANTIDAD</th>\n",
              "      <th>VALOR</th>\n",
              "      <th>VALOR_UNITARIO</th>\n",
              "    </tr>\n",
              "    <tr>\n",
              "      <th>FECHA_DOCUMENTO</th>\n",
              "      <th></th>\n",
              "      <th></th>\n",
              "      <th></th>\n",
              "      <th></th>\n",
              "      <th></th>\n",
              "    </tr>\n",
              "  </thead>\n",
              "  <tbody>\n",
              "    <tr>\n",
              "      <th>2022-01-21 10:14:20</th>\n",
              "      <td>Friday</td>\n",
              "      <td>CASALUKER</td>\n",
              "      <td>-3.0</td>\n",
              "      <td>-18285.714</td>\n",
              "      <td>6095.238</td>\n",
              "    </tr>\n",
              "    <tr>\n",
              "      <th>2022-01-21 10:14:20</th>\n",
              "      <td>Friday</td>\n",
              "      <td>Comercial Nutresa  S.A.S.</td>\n",
              "      <td>3.0</td>\n",
              "      <td>19714.287</td>\n",
              "      <td>6571.429</td>\n",
              "    </tr>\n",
              "  </tbody>\n",
              "</table>\n",
              "</div>"
            ],
            "text/plain": [
              "                    DIA_SEMANA             DESC_PROVEEDOR  CANTIDAD  \\\n",
              "FECHA_DOCUMENTO                                                       \n",
              "2022-01-21 10:14:20     Friday                  CASALUKER      -3.0   \n",
              "2022-01-21 10:14:20     Friday  Comercial Nutresa  S.A.S.       3.0   \n",
              "\n",
              "                         VALOR  VALOR_UNITARIO  \n",
              "FECHA_DOCUMENTO                                 \n",
              "2022-01-21 10:14:20 -18285.714        6095.238  \n",
              "2022-01-21 10:14:20  19714.287        6571.429  "
            ]
          },
          "execution_count": 14,
          "metadata": {},
          "output_type": "execute_result"
        }
      ],
      "source": [
        "minimos = STiempo.loc[STiempo[\"CANTIDAD\"].idxmin()]\n",
        "minimos"
      ]
    },
    {
      "cell_type": "markdown",
      "metadata": {
        "id": "aDV2P0EltlxP"
      },
      "source": [
        "# **Valores Medios en la Serie de Tiempo (Dias, Meses, Año)**"
      ]
    },
    {
      "cell_type": "code",
      "execution_count": 15,
      "metadata": {
        "id": "YTcq_f0trmP_"
      },
      "outputs": [],
      "source": [
        "MEAND = STiempo.resample('d').mean()"
      ]
    },
    {
      "cell_type": "code",
      "execution_count": 16,
      "metadata": {
        "id": "iwN1GHghtDsc"
      },
      "outputs": [],
      "source": [
        "MEANM = STiempo.resample('m').mean()"
      ]
    },
    {
      "cell_type": "code",
      "execution_count": 17,
      "metadata": {
        "id": "zeccjZFltIih"
      },
      "outputs": [],
      "source": [
        "MEANY = STiempo.resample('y').mean()"
      ]
    },
    {
      "cell_type": "markdown",
      "metadata": {
        "id": "ym2HYGYMt4t-"
      },
      "source": [
        "# **Valores Maximos en la Serie de Tiempo (Dias, Meses, Año)**"
      ]
    },
    {
      "cell_type": "code",
      "execution_count": 18,
      "metadata": {
        "id": "7ZTJqWaWt6il"
      },
      "outputs": [],
      "source": [
        "MAXD = STiempo.resample('d').max()"
      ]
    },
    {
      "cell_type": "code",
      "execution_count": 19,
      "metadata": {
        "id": "w6moezCpt_HT"
      },
      "outputs": [],
      "source": [
        "MAXM = STiempo.resample('m').max()"
      ]
    },
    {
      "cell_type": "code",
      "execution_count": 20,
      "metadata": {
        "id": "94IVPu2ouBGe"
      },
      "outputs": [],
      "source": [
        "MAXY = STiempo.resample('y').max()"
      ]
    },
    {
      "cell_type": "markdown",
      "metadata": {
        "id": "TPjrEvXHuKEc"
      },
      "source": [
        "# **Valores Minimos en la Serie de Tiempo (Dias, Meses, Año)**"
      ]
    },
    {
      "cell_type": "code",
      "execution_count": 21,
      "metadata": {
        "id": "8Bm5rTsxuNhC"
      },
      "outputs": [],
      "source": [
        "MIND = STiempo.resample('d').min()"
      ]
    },
    {
      "cell_type": "code",
      "execution_count": 22,
      "metadata": {
        "id": "r9C1U23GuQWp"
      },
      "outputs": [],
      "source": [
        "MINM = STiempo.resample('m').min()"
      ]
    },
    {
      "cell_type": "code",
      "execution_count": 23,
      "metadata": {
        "id": "JzkN98nzuT3L"
      },
      "outputs": [
        {
          "data": {
            "text/html": [
              "<div>\n",
              "<style scoped>\n",
              "    .dataframe tbody tr th:only-of-type {\n",
              "        vertical-align: middle;\n",
              "    }\n",
              "\n",
              "    .dataframe tbody tr th {\n",
              "        vertical-align: top;\n",
              "    }\n",
              "\n",
              "    .dataframe thead th {\n",
              "        text-align: right;\n",
              "    }\n",
              "</style>\n",
              "<table border=\"1\" class=\"dataframe\">\n",
              "  <thead>\n",
              "    <tr style=\"text-align: right;\">\n",
              "      <th></th>\n",
              "      <th>DIA_SEMANA</th>\n",
              "      <th>DESC_PROVEEDOR</th>\n",
              "      <th>CANTIDAD</th>\n",
              "      <th>VALOR</th>\n",
              "      <th>VALOR_UNITARIO</th>\n",
              "    </tr>\n",
              "    <tr>\n",
              "      <th>FECHA_DOCUMENTO</th>\n",
              "      <th></th>\n",
              "      <th></th>\n",
              "      <th></th>\n",
              "      <th></th>\n",
              "      <th></th>\n",
              "    </tr>\n",
              "  </thead>\n",
              "  <tbody>\n",
              "    <tr>\n",
              "      <th>2022-12-31</th>\n",
              "      <td>Friday</td>\n",
              "      <td>CASALUKER</td>\n",
              "      <td>-3.0</td>\n",
              "      <td>-18285.714</td>\n",
              "      <td>100.0</td>\n",
              "    </tr>\n",
              "  </tbody>\n",
              "</table>\n",
              "</div>"
            ],
            "text/plain": [
              "                DIA_SEMANA DESC_PROVEEDOR  CANTIDAD      VALOR  VALOR_UNITARIO\n",
              "FECHA_DOCUMENTO                                                               \n",
              "2022-12-31          Friday      CASALUKER      -3.0 -18285.714           100.0"
            ]
          },
          "execution_count": 23,
          "metadata": {},
          "output_type": "execute_result"
        }
      ],
      "source": [
        "STiempo.resample('y').min().head()"
      ]
    },
    {
      "cell_type": "code",
      "execution_count": 24,
      "metadata": {
        "id": "QpEjqRbJy75h"
      },
      "outputs": [
        {
          "data": {
            "image/png": "[encoded data removed]",
            "text/plain": [
              "<Figure size 432x288 with 1 Axes>"
            ]
          },
          "metadata": {},
          "output_type": "display_data"
        }
      ],
      "source": [
        "MIND['CANTIDAD'].plot();\n",
        "MAXD['CANTIDAD'].plot();\n",
        "MEAND['CANTIDAD'].plot();"
      ]
    },
    {
      "cell_type": "code",
      "execution_count": 25,
      "metadata": {
        "id": "KJ1WkHFp2GRA"
      },
      "outputs": [
        {
          "data": {
            "image/png": "[encoded data removed]",
            "text/plain": [
              "<Figure size 432x288 with 1 Axes>"
            ]
          },
          "metadata": {},
          "output_type": "display_data"
        }
      ],
      "source": [
        "MINM['CANTIDAD'].plot();\n",
        "MAXM['CANTIDAD'].plot();\n",
        "MEANM['CANTIDAD'].plot();"
      ]
    },
    {
      "cell_type": "code",
      "execution_count": null,
      "metadata": {
        "id": "tCHE8hUOugiI"
      },
      "outputs": [],
      "source": [
        "plt.figure(figsize=(20,10))\n",
        "STiempo['CANTIDAD'].plot(alpha = 0.5),\n",
        "MIND['CANTIDAD'].plot(label = 'Minimo'),\n",
        "MAXD['CANTIDAD'].plot(label = 'Máximo'),\n",
        "plt.title(\"Cantidad Vendida\"),\n",
        "plt.legend()\n",
        "plt.grid(which='major', axis='both')\n",
        "plt.show();"
      ]
    },
    {
      "cell_type": "code",
      "execution_count": null,
      "metadata": {
        "id": "mg2dwU8Q0YQT"
      },
      "outputs": [],
      "source": [
        "STiempo.boxplot();"
      ]
    },
    {
      "cell_type": "code",
      "execution_count": null,
      "metadata": {
        "id": "j7x9xP2zuvH4"
      },
      "outputs": [],
      "source": [
        "plt.figure(figsize=(20,4))\n",
        "STiempo['VALOR'].plot(),\n",
        "plt.title('Valor unitario'),\n",
        "plt.legend(),\n",
        "plt.xlabel('Fecha')\n",
        "plt.ylabel('Valor unitario')\n",
        "plt.grid(which='major', axis='both')\n",
        "plt.show();"
      ]
    },
    {
      "cell_type": "code",
      "execution_count": null,
      "metadata": {
        "id": "c9fHAzQHuzBI"
      },
      "outputs": [],
      "source": [
        "plt.figure(figsize=(20,4))\n",
        "STiempo['VALOR_UNITARIO'].plot();\n",
        "plt.title(\"Valor Unitario\");"
      ]
    },
    {
      "cell_type": "code",
      "execution_count": null,
      "metadata": {
        "id": "o8VYdPFf3MoB"
      },
      "outputs": [],
      "source": [
        "# Draw Plot\n",
        "def plot_df(df, x, y, title=\"\", xlabel='Fecha', ylabel='Valor', dpi=100):\n",
        "    plt.figure(figsize=(20,4), dpi=dpi)\n",
        "    plt.plot(x, y, color='tab:red', alpha = 0.5)\n",
        "    plt.gca().set(title=title, xlabel=xlabel, ylabel=ylabel)\n",
        "    plt.grid(which='major', axis='both')\n",
        "    plt.show()\n",
        "\n",
        "plot_df(STiempo, x=STiempo.index, y=STiempo['VALOR'], title='Venta en cantidades 2022-Ene a 2022-Jun')    "
      ]
    },
    {
      "cell_type": "markdown",
      "metadata": {
        "id": "fEi62Jyh6PTb"
      },
      "source": [
        "## Analisis exploratorio con Pandas Profile"
      ]
    },
    {
      "cell_type": "code",
      "execution_count": null,
      "metadata": {
        "id": "FYUIbr8g5kuW"
      },
      "outputs": [],
      "source": [
        "factOK.describe()"
      ]
    },
    {
      "cell_type": "code",
      "execution_count": null,
      "metadata": {
        "id": "f479Vo_Y7vdc"
      },
      "outputs": [],
      "source": [
        "factOK.shape"
      ]
    },
    {
      "cell_type": "code",
      "execution_count": null,
      "metadata": {
        "id": "v3rIA5Fc73eH"
      },
      "outputs": [],
      "source": [
        "factOK['CANTIDAD'].describe()"
      ]
    },
    {
      "cell_type": "code",
      "execution_count": null,
      "metadata": {
        "id": "hC9w5qseZj9R"
      },
      "outputs": [],
      "source": [
        "factOK['VALOR_UNITARIO'].describe()"
      ]
    },
    {
      "cell_type": "code",
      "execution_count": null,
      "metadata": {
        "id": "G-QuSqiTcNDJ"
      },
      "outputs": [],
      "source": [
        "fig, ax = plt.subplots(figsize = (19, 8))\n",
        "sns.barplot(x='DIA_SEMANA',y='CANTIDAD',data=factOK,ax = ax,hue='DESC_PROVEEDOR');\n",
        "plt.xticks(rotation=90);"
      ]
    },
    {
      "cell_type": "code",
      "execution_count": null,
      "metadata": {
        "id": "cCI80gP7Cxg0"
      },
      "outputs": [],
      "source": [
        "sns.boxplot(y='VALOR_UNITARIO',data=STiempo);"
      ]
    },
    {
      "cell_type": "code",
      "execution_count": null,
      "metadata": {
        "id": "Nr5LoVxEDLdM"
      },
      "outputs": [],
      "source": [
        "sns.boxplot(y='CANTIDAD',data=factOK);"
      ]
    },
    {
      "cell_type": "code",
      "execution_count": null,
      "metadata": {
        "id": "6ezKrfK3-XOG"
      },
      "outputs": [],
      "source": [
        "fig, ax = plt.subplots(figsize = (19, 8))\n",
        "sns.boxplot(x='DESC_PROVEEDOR',y='VALOR_UNITARIO',data=factOK);\n",
        "plt.xticks(rotation=90);"
      ]
    },
    {
      "cell_type": "code",
      "execution_count": null,
      "metadata": {
        "id": "6cYTQ3b-RQ94"
      },
      "outputs": [],
      "source": [
        "fig, ax = plt.subplots(figsize = (19, 8))\n",
        "sns.histplot(factOK['VALOR_UNITARIO']);"
      ]
    },
    {
      "cell_type": "code",
      "execution_count": null,
      "metadata": {
        "id": "KXS-ySZOySad"
      },
      "outputs": [],
      "source": [
        "factOK[factOK['CANTIDAD']<=0].count()"
      ]
    },
    {
      "cell_type": "code",
      "execution_count": null,
      "metadata": {
        "id": "uxXNkEXxSQOV"
      },
      "outputs": [],
      "source": [
        "fig, ax = plt.subplots(figsize = (19, 8))\n",
        "sns.kdeplot(data=factOK['CANTIDAD'], shade=True);"
      ]
    },
    {
      "cell_type": "code",
      "execution_count": null,
      "metadata": {
        "id": "60DUtyKaSrtz"
      },
      "outputs": [],
      "source": [
        "fig, ax = plt.subplots(figsize = (19, 8))\n",
        "sns.violinplot(x='DESC_PROVEEDOR',y='CANTIDAD',data=factOK);\n",
        "plt.xticks(rotation=90);"
      ]
    },
    {
      "cell_type": "code",
      "execution_count": null,
      "metadata": {
        "id": "pQPmWUE1VpeS"
      },
      "outputs": [],
      "source": [
        "fig, ax = plt.subplots(figsize = (19, 8))\n",
        "sns.regplot(x=factOK['VALOR_UNITARIO'], y=factOK['CANTIDAD']);"
      ]
    },
    {
      "cell_type": "code",
      "execution_count": null,
      "metadata": {
        "id": "7lEkORwdY6dw"
      },
      "outputs": [],
      "source": [
        "import pandas as pd\n",
        "from pandas_profiling import ProfileReport"
      ]
    },
    {
      "cell_type": "code",
      "execution_count": null,
      "metadata": {
        "id": "Czu0H1KLY_Bg"
      },
      "outputs": [],
      "source": [
        "!pip install https://github.com/pandas-profiling/pandas-profiling/archive/master.zip"
      ]
    },
    {
      "cell_type": "code",
      "execution_count": null,
      "metadata": {
        "id": "Aa5BvPGVZBi_"
      },
      "outputs": [],
      "source": [
        "prof = ProfileReport(factOK)"
      ]
    },
    {
      "cell_type": "code",
      "execution_count": null,
      "metadata": {
        "id": "fXTitb77ZF3o"
      },
      "outputs": [],
      "source": [
        "prof"
      ]
    },
    {
      "cell_type": "code",
      "execution_count": null,
      "metadata": {
        "id": "0dX4-CjoJ8mF"
      },
      "outputs": [],
      "source": [
        "corr_df = factOK.corr(method='pearson')\n",
        "\n",
        "plt.figure(figsize=(8, 6))\n",
        "sns.heatmap(corr_df, annot=True)\n",
        "plt.show()"
      ]
    },
    {
      "cell_type": "code",
      "execution_count": null,
      "metadata": {
        "id": "c7X_cAwfTEtn"
      },
      "outputs": [],
      "source": [
        "import pandas as pd\n",
        "import matplotlib.pyplot as plt\n",
        "import seaborn as sns\n",
        "sns.heatmap(factOK.corr())\n",
        "from datetime import datetime, timedelta\n"
      ]
    },
    {
      "cell_type": "code",
      "execution_count": null,
      "metadata": {
        "id": "RUrsC9MFKplR"
      },
      "outputs": [],
      "source": [
        "fig, ax = plt.subplots(figsize = (19, 8))\n",
        "sns.barplot(x='DIA_SEMANA',y='CANTIDAD',data=factOK);\n",
        "plt.xticks(rotation=90);"
      ]
    },
    {
      "cell_type": "code",
      "execution_count": null,
      "metadata": {
        "id": "13SMqwY1qIVN"
      },
      "outputs": [],
      "source": [
        "pd.to_datetime(factOK['FECHA_DOCUMENTO'],datetime.date)"
      ]
    },
    {
      "cell_type": "markdown",
      "metadata": {
        "id": "kAltT7pfkatC"
      },
      "source": [
        "# Descripción escrita y grafica de los datos faltantes."
      ]
    },
    {
      "cell_type": "markdown",
      "metadata": {
        "id": "HSxynNWSkdOp"
      },
      "source": [
        "#Uso de técnicas para imputar\n",
        "\n",
        "## Métodos de imputación simples\n",
        "**Imputación mediante la media:** se reemplazan los valores perdidos por la media de los valores observados.\n",
        "\n",
        "**Imputación mediante regresión:** se estima una regresión de las observaciones existentes y se imputa cada valor perdido mediante la ecuación de regresión estimada.\n",
        "\n",
        "**Imputación mediante regresión estocástica:** similar al enterior pero se imputa añadiendo a la predicción un valor residual para reestablecer la pérdida de variabilidad.\n",
        "\n",
        "**Imputación mediante médias móviles:** se reemplazan las observaciones faltantes por los valores estimados mediante médias móviles.\n",
        "\n",
        "**Imputación por Last Observation Carried Forward (locf):** reemplaza el dato perdido por la observacion que le precede.\n",
        "\n",
        "**Imputación por interpolación:** se estiman los valores perdidos interpolando (uniendo de manera lineal, polinomial, etc.) el último valor válido antes del valor perdido y el primer valor válido después del valor perdido.\n",
        "\n",
        "### Métodos de imputación basados en máxima verosimilitud\n",
        "\n",
        "**Imputación múltiple:** consiste en realizar varias imputaciones de las observaciones faltantes para luego analizar los conjuntos de datos completados y combinar los resultados obtenidos para obtener una estimacion final. El análisis de imputación múltiple esta dividido en tres fases: fase de imputacion, fase de análisis y fase de puesta en común.\n",
        "\n",
        "**Imputación mediante el algoritmo EM (Expectation-Maximization):** es un algoritmo importante para el análisis de datos faltantes. Es un método iterativo de dos pasos (esperanza y maximizacion) donde se comienza por reemplazar los datos ausentes por unos valores estimados y a continuación se procede a una primera estimación de los parámetros, para con estos parámetros volver a iniciar al primer paso y así sucesivamente hasta que la convergencia de los parámetros sea aceptable.\n",
        "\n",
        "### Métodos de imputación basados en machine learning\n",
        "**Imputación con K-Nearest Neighbor:** se estiman los valores peridos con la media de los vecinos seleccionados.\n",
        "\n",
        "**Imputación con K-means**\n",
        "**Imputación con máquinas de soporte vectorial**\n",
        "En el ámbito de la imputación, la imputación en series temporales univariantes es un reto adicional, debido a que la mayoría de algoritmos complejos están desarrollados para series temporales multivariantes ya que dependen de la correlación entre los inter-atributos para estimar los valores de los datos perdidos (imputación múltiple, EM, kNN, etc.), algo que no ocurre en el caso univariante (al ser un único atributo). Pero además de los métodos simples, también hay posibilidades adicionales más complejas para la imputación en series temporales univariantes:\n",
        "\n",
        "**Algoritmos multivariantes con datos retardados:** consisten en emplear indirectamente los algoritmos de series multivariantes en series univariantes empleando el tiempo (variable implícita de una serie temporal) como un atributo más. La forma habitual de hacer esto es mediante lags (variables que toman el valor de otra variable en un instante de tiempo previo) y leads (toman el valor de otra variable en un instante de tiempo posterior).\n",
        "\n",
        "**Filtro de Kalman con modelos ARIMA de espacio de estados:** todos los modelos ARIMA pueden ser reescritos (y estimados) como modelos en el espacio de estados. Estos modelos en el espacio de estados pueden entre otras muchas cosas estimar observaciones perdidas. Luego los principales beneficios de representar sistemas dinámicos en forma de espacio de estados es que el espacio de estados permite que las variables no observadas puedan ser incorporadas y estimadas junto con el modelo observable, y que además, estos modelos en el espacio de estados pueden ser analizados usando un algoritmo recursivo llamado filtro de Kalman (Kalman filter), que es usado, entre otras cosas, para determinar las estimaciones óptimas de los modelos en el espacio de estados.\n",
        "\n",
        "(RPubs - Imputación Series de Tiempo, 2021)\n",
        "\n",
        "[RPubs - Imputación Series de Tiempo. (2021, September 2). Rpubs.com.](https://rpubs.com/wilsonsr/804544#:~:text=M%C3%A9todos%20de%20imputaci%C3%B3n%20simples,la%20ecuaci%C3%B3n%20de%20regresi%C3%B3n%20estimada.)\n",
        "\n",
        "‌"
      ]
    },
    {
      "cell_type": "markdown",
      "metadata": {
        "id": "0ZeemLvrkfLZ"
      },
      "source": [
        "Descripción escrita y grafica de los datos atípicos.\n"
      ]
    },
    {
      "cell_type": "markdown",
      "metadata": {
        "id": "d6rAyEXzkiZq"
      },
      "source": [
        "Uso técnicas para tratar atípicos.\n"
      ]
    },
    {
      "cell_type": "markdown",
      "metadata": {
        "id": "Urkb5A7IkkF5"
      },
      "source": [
        "Análisis de estacionalidad de la serie de tiempo \n"
      ]
    },
    {
      "cell_type": "markdown",
      "metadata": {
        "id": "3s1KiPp2kluq"
      },
      "source": [
        "Procesamiento de estacionariedad.\n"
      ]
    },
    {
      "cell_type": "markdown",
      "metadata": {
        "id": "U1SpVHgGknj7"
      },
      "source": [
        "Análisis de tendencia de la serie de tiempo\n"
      ]
    },
    {
      "cell_type": "markdown",
      "metadata": {
        "id": "WE6fhD76kpjJ"
      },
      "source": [
        "Procesamiento de eliminación de tendencia.\n"
      ]
    },
    {
      "cell_type": "markdown",
      "metadata": {
        "id": "1lPpDdZ2kqsL"
      },
      "source": [
        "Análisis de periodicidad de  la serie de tiempo\n"
      ]
    },
    {
      "cell_type": "markdown",
      "metadata": {
        "id": "V9rdlkqMksES"
      },
      "source": [
        "Análisis de autocorrelación.\n"
      ]
    },
    {
      "cell_type": "markdown",
      "metadata": {
        "id": "jWuHIPuzktjr"
      },
      "source": [
        "Estimación de la predictibilidad de la serie de tiempo. \n"
      ]
    },
    {
      "cell_type": "markdown",
      "metadata": {
        "id": "Zjd5x_1Pkvur"
      },
      "source": [
        "Uso de resultados de preprocesamiento para toma de decisiones"
      ]
    },
    {
      "cell_type": "markdown",
      "metadata": {
        "id": "Nm2Vx1prnYDH"
      },
      "source": [
        "de, U. (2022). Predicción de series temporales con machine learning [YouTube Video]. In YouTube. https://www.youtube.com/watch?v=MlktVhReO0E\n",
        "\n",
        "‌"
      ]
    }
  ],
  "metadata": {
    "colab": {
      "collapsed_sections": [],
      "private_outputs": true,
      "provenance": []
    },
    "kernelspec": {
      "display_name": "Python 3.9.12 ('base')",
      "language": "python",
      "name": "python3"
    },
    "language_info": {
      "codemirror_mode": {
        "name": "ipython",
        "version": 3
      },
      "file_extension": ".py",
      "mimetype": "text/x-python",
      "name": "python",
      "nbconvert_exporter": "python",
      "pygments_lexer": "ipython3",
      "version": "3.9.12"
    },
    "vscode": {
      "interpreter": {
        "hash": "ad2bdc8ecc057115af97d19610ffacc2b4e99fae6737bb82f5d7fb13d2f2c186"
      }
    }
  },
  "nbformat": 4,
  "nbformat_minor": 0
}
