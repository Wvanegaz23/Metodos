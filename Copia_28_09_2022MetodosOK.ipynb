{
  "nbformat": 4,
  "nbformat_minor": 0,
  "metadata": {
    "colab": {
      "private_outputs": true,
      "provenance": [],
      "collapsed_sections": []
    },
    "kernelspec": {
      "name": "python3",
      "display_name": "Python 3"
    },
    "language_info": {
      "name": "python"
    }
  },
  "cells": [
    {
      "cell_type": "markdown",
      "source": [
        "# Analisis Expliratorio"
      ],
      "metadata": {
        "id": "-lA7kPil5-lL"
      }
    },
    {
      "cell_type": "markdown",
      "source": [
        "##Importación de Librerias"
      ],
      "metadata": {
        "id": "ExADH4-D6Hxh"
      }
    },
    {
      "cell_type": "code",
      "execution_count": null,
      "metadata": {
        "id": "48BpnZKV5aYX"
      },
      "outputs": [],
      "source": [
        "from dateutil.parser import parse \n",
        "import matplotlib as mpl\n",
        "import matplotlib.pyplot as plt\n",
        "import seaborn as sns\n",
        "import numpy as np\n",
        "import pandas as pd\n",
        "sns.set()\n",
        "from datetime import datetime, timedelta"
      ]
    },
    {
      "cell_type": "markdown",
      "source": [
        "## Importación de Base"
      ],
      "metadata": {
        "id": "TfhvEAyq6LAR"
      }
    },
    {
      "cell_type": "code",
      "source": [
        "fact= pd.read_csv('https://raw.githubusercontent.com/Wvanegaz23/Metodos/main/FacturasSellOutRC.csv')\n",
        "fact1= pd.read_csv('https://raw.githubusercontent.com/Wvanegaz23/Metodos/main/FacturasSellOutRC1.csv')\n",
        "factOK = pd.concat([fact,fact1])"
      ],
      "metadata": {
        "id": "6jCKOqda5dc4"
      },
      "execution_count": null,
      "outputs": []
    },
    {
      "cell_type": "code",
      "source": [
        "factOK.head()"
      ],
      "metadata": {
        "id": "A1WvsuekBYfy"
      },
      "execution_count": null,
      "outputs": []
    },
    {
      "cell_type": "code",
      "source": [
        "factOK['LLAVE_CLIENTE'] =str(factOK['LLAVE_CLIENTE']) #Cambio de la variable LLAVE_CLIENTE que estaba como float a str\n",
        "factOK['LLAVE_PRODUCTO'] =str(factOK['LLAVE_PRODUCTO']) #Cambio de la variable LLAVE_PRODUCTO que estaba como float a str\n",
        "factOK['FECHA_DOCUMENTO'] = pd.to_datetime(factOK['FECHA_DOCUMENTO'], format = '%Y-%m-%d')"
      ],
      "metadata": {
        "id": "4r2ni5f3kIRO"
      },
      "execution_count": null,
      "outputs": []
    },
    {
      "cell_type": "code",
      "source": [
        "factOK[factOK['FECHA_DOCUMENTO'] == '2022-04-09 18:45:09']"
      ],
      "metadata": {
        "id": "wZcwEOpHDqMq"
      },
      "execution_count": null,
      "outputs": []
    },
    {
      "cell_type": "code",
      "source": [
        "factOK.info()"
      ],
      "metadata": {
        "id": "ysv8HGFkDXvl"
      },
      "execution_count": null,
      "outputs": []
    },
    {
      "cell_type": "code",
      "source": [
        "STiempo = factOK.pivot_table(\n",
        "    index = ['FECHA_DOCUMENTO','DIA_SEMANA','DESC_PROVEEDOR'],\n",
        "    aggfunc=np.sum,\n",
        "    fill_value=False)\n",
        "STiempo = STiempo.reset_index(level=['DIA_SEMANA','DESC_PROVEEDOR'])"
      ],
      "metadata": {
        "id": "qyYvv2g7pysl"
      },
      "execution_count": null,
      "outputs": []
    },
    {
      "cell_type": "code",
      "source": [
        "STiempo.info()"
      ],
      "metadata": {
        "id": "dbkkt3RKrSgn"
      },
      "execution_count": null,
      "outputs": []
    },
    {
      "cell_type": "code",
      "source": [
        "STiempo.describe()"
      ],
      "metadata": {
        "id": "OriOI-uarYx-"
      },
      "execution_count": null,
      "outputs": []
    },
    {
      "cell_type": "code",
      "source": [
        "maximos = STiempo.loc[STiempo[\"CANTIDAD\"].idxmax()]\n",
        "maximos"
      ],
      "metadata": {
        "id": "TS-3vAQKrjXM"
      },
      "execution_count": null,
      "outputs": []
    },
    {
      "cell_type": "code",
      "source": [
        "minimos = STiempo.loc[STiempo[\"CANTIDAD\"].idxmin()]\n",
        "minimos"
      ],
      "metadata": {
        "id": "qKh_tSRmDegd"
      },
      "execution_count": null,
      "outputs": []
    },
    {
      "cell_type": "markdown",
      "source": [
        "# **Valores Medios en la Serie de Tiempo (Dias, Meses, Año)**"
      ],
      "metadata": {
        "id": "aDV2P0EltlxP"
      }
    },
    {
      "cell_type": "code",
      "source": [
        "MEAND = STiempo.resample('d').mean()"
      ],
      "metadata": {
        "id": "YTcq_f0trmP_"
      },
      "execution_count": null,
      "outputs": []
    },
    {
      "cell_type": "code",
      "source": [
        "MEANM = STiempo.resample('m').mean()"
      ],
      "metadata": {
        "id": "iwN1GHghtDsc"
      },
      "execution_count": null,
      "outputs": []
    },
    {
      "cell_type": "code",
      "source": [
        "MEANY = STiempo.resample('y').mean()"
      ],
      "metadata": {
        "id": "zeccjZFltIih"
      },
      "execution_count": null,
      "outputs": []
    },
    {
      "cell_type": "markdown",
      "source": [
        "# **Valores Maximos en la Serie de Tiempo (Dias, Meses, Año)**"
      ],
      "metadata": {
        "id": "ym2HYGYMt4t-"
      }
    },
    {
      "cell_type": "code",
      "source": [
        "MAXD = STiempo.resample('d').max()"
      ],
      "metadata": {
        "id": "7ZTJqWaWt6il"
      },
      "execution_count": null,
      "outputs": []
    },
    {
      "cell_type": "code",
      "source": [
        "MAXM = STiempo.resample('m').max()"
      ],
      "metadata": {
        "id": "w6moezCpt_HT"
      },
      "execution_count": null,
      "outputs": []
    },
    {
      "cell_type": "code",
      "source": [
        "MAXY = STiempo.resample('y').max()"
      ],
      "metadata": {
        "id": "94IVPu2ouBGe"
      },
      "execution_count": null,
      "outputs": []
    },
    {
      "cell_type": "markdown",
      "source": [
        "# **Valores Minimos en la Serie de Tiempo (Dias, Meses, Año)**"
      ],
      "metadata": {
        "id": "TPjrEvXHuKEc"
      }
    },
    {
      "cell_type": "code",
      "source": [
        "MIND = STiempo.resample('d').min()"
      ],
      "metadata": {
        "id": "8Bm5rTsxuNhC"
      },
      "execution_count": null,
      "outputs": []
    },
    {
      "cell_type": "code",
      "source": [
        "MINM = STiempo.resample('m').min()"
      ],
      "metadata": {
        "id": "r9C1U23GuQWp"
      },
      "execution_count": null,
      "outputs": []
    },
    {
      "cell_type": "code",
      "source": [
        "STiempo.resample('y').min().head()"
      ],
      "metadata": {
        "id": "JzkN98nzuT3L"
      },
      "execution_count": null,
      "outputs": []
    },
    {
      "cell_type": "code",
      "source": [
        "MIND['CANTIDAD'].plot();\n",
        "MAXD['CANTIDAD'].plot();\n",
        "MEAND['CANTIDAD'].plot();"
      ],
      "metadata": {
        "id": "QpEjqRbJy75h"
      },
      "execution_count": null,
      "outputs": []
    },
    {
      "cell_type": "code",
      "source": [
        "MINM['CANTIDAD'].plot();\n",
        "MAXM['CANTIDAD'].plot();\n",
        "MEANM['CANTIDAD'].plot();"
      ],
      "metadata": {
        "id": "KJ1WkHFp2GRA"
      },
      "execution_count": null,
      "outputs": []
    },
    {
      "cell_type": "code",
      "source": [
        "plt.figure(figsize=(20,10))\n",
        "STiempo['CANTIDAD'].plot(alpha = 0.5),\n",
        "MIND['CANTIDAD'].plot(label = 'Minimo'),\n",
        "MAXD['CANTIDAD'].plot(label = 'Máximo'),\n",
        "plt.title(\"Cantidad Vendida\"),\n",
        "plt.legend()\n",
        "plt.grid(which='major', axis='both')\n",
        "plt.show();"
      ],
      "metadata": {
        "id": "tCHE8hUOugiI"
      },
      "execution_count": null,
      "outputs": []
    },
    {
      "cell_type": "code",
      "source": [
        "STiempo.boxplot();"
      ],
      "metadata": {
        "id": "mg2dwU8Q0YQT"
      },
      "execution_count": null,
      "outputs": []
    },
    {
      "cell_type": "code",
      "source": [
        "plt.figure(figsize=(20,4))\n",
        "STiempo['VALOR'].plot(),\n",
        "plt.title('Valor unitario'),\n",
        "plt.legend(),\n",
        "plt.xlabel('Fecha')\n",
        "plt.ylabel('Valor unitario')\n",
        "plt.grid(which='major', axis='both')\n",
        "plt.show();"
      ],
      "metadata": {
        "id": "j7x9xP2zuvH4"
      },
      "execution_count": null,
      "outputs": []
    },
    {
      "cell_type": "code",
      "source": [
        "plt.figure(figsize=(20,4))\n",
        "STiempo['VALOR_UNITARIO'].plot();\n",
        "plt.title(\"Valor Unitario\");"
      ],
      "metadata": {
        "id": "c9fHAzQHuzBI"
      },
      "execution_count": null,
      "outputs": []
    },
    {
      "cell_type": "code",
      "source": [
        "# Draw Plot\n",
        "def plot_df(df, x, y, title=\"\", xlabel='Fecha', ylabel='Valor', dpi=100):\n",
        "    plt.figure(figsize=(20,4), dpi=dpi)\n",
        "    plt.plot(x, y, color='tab:red', alpha = 0.5)\n",
        "    plt.gca().set(title=title, xlabel=xlabel, ylabel=ylabel)\n",
        "    plt.grid(which='major', axis='both')\n",
        "    plt.show()\n",
        "\n",
        "plot_df(STiempo, x=STiempo.index, y=STiempo['VALOR'], title='Venta en cantidades 2022-Ene a 2022-Jun')    "
      ],
      "metadata": {
        "id": "o8VYdPFf3MoB"
      },
      "execution_count": null,
      "outputs": []
    },
    {
      "cell_type": "markdown",
      "source": [
        "## Analisis exploratorio con Pandas Profile"
      ],
      "metadata": {
        "id": "fEi62Jyh6PTb"
      }
    },
    {
      "cell_type": "code",
      "source": [
        "factOK.describe()"
      ],
      "metadata": {
        "id": "FYUIbr8g5kuW"
      },
      "execution_count": null,
      "outputs": []
    },
    {
      "cell_type": "code",
      "source": [
        "factOK.shape"
      ],
      "metadata": {
        "id": "f479Vo_Y7vdc"
      },
      "execution_count": null,
      "outputs": []
    },
    {
      "cell_type": "code",
      "source": [
        "factOK['CANTIDAD'].describe()"
      ],
      "metadata": {
        "id": "v3rIA5Fc73eH"
      },
      "execution_count": null,
      "outputs": []
    },
    {
      "cell_type": "code",
      "source": [
        "factOK['VALOR_UNITARIO'].describe()"
      ],
      "metadata": {
        "id": "hC9w5qseZj9R"
      },
      "execution_count": null,
      "outputs": []
    },
    {
      "cell_type": "code",
      "source": [
        "fig, ax = plt.subplots(figsize = (19, 8))\n",
        "sns.barplot(x='DIA_SEMANA',y='CANTIDAD',data=factOK,ax = ax,hue='DESC_PROVEEDOR');\n",
        "plt.xticks(rotation=90);"
      ],
      "metadata": {
        "id": "G-QuSqiTcNDJ"
      },
      "execution_count": null,
      "outputs": []
    },
    {
      "cell_type": "code",
      "source": [
        "sns.boxplot(y='VALOR_UNITARIO',data=STiempo);"
      ],
      "metadata": {
        "id": "cCI80gP7Cxg0"
      },
      "execution_count": null,
      "outputs": []
    },
    {
      "cell_type": "code",
      "source": [
        "sns.boxplot(y='CANTIDAD',data=factOK);"
      ],
      "metadata": {
        "id": "Nr5LoVxEDLdM"
      },
      "execution_count": null,
      "outputs": []
    },
    {
      "cell_type": "code",
      "source": [
        "fig, ax = plt.subplots(figsize = (19, 8))\n",
        "sns.boxplot(x='DESC_PROVEEDOR',y='VALOR_UNITARIO',data=factOK);\n",
        "plt.xticks(rotation=90);"
      ],
      "metadata": {
        "id": "6ezKrfK3-XOG"
      },
      "execution_count": null,
      "outputs": []
    },
    {
      "cell_type": "code",
      "source": [
        "fig, ax = plt.subplots(figsize = (19, 8))\n",
        "sns.histplot(factOK['VALOR_UNITARIO']);"
      ],
      "metadata": {
        "id": "6cYTQ3b-RQ94"
      },
      "execution_count": null,
      "outputs": []
    },
    {
      "cell_type": "code",
      "source": [
        "factOK[factOK['CANTIDAD']<=0].count()"
      ],
      "metadata": {
        "id": "KXS-ySZOySad"
      },
      "execution_count": null,
      "outputs": []
    },
    {
      "cell_type": "code",
      "source": [
        "fig, ax = plt.subplots(figsize = (19, 8))\n",
        "sns.kdeplot(data=factOK['CANTIDAD'], shade=True);"
      ],
      "metadata": {
        "id": "uxXNkEXxSQOV"
      },
      "execution_count": null,
      "outputs": []
    },
    {
      "cell_type": "code",
      "source": [
        "fig, ax = plt.subplots(figsize = (19, 8))\n",
        "sns.violinplot(x='DESC_PROVEEDOR',y='CANTIDAD',data=factOK);\n",
        "plt.xticks(rotation=90);"
      ],
      "metadata": {
        "id": "60DUtyKaSrtz"
      },
      "execution_count": null,
      "outputs": []
    },
    {
      "cell_type": "code",
      "source": [
        "fig, ax = plt.subplots(figsize = (19, 8))\n",
        "sns.regplot(x=factOK['VALOR_UNITARIO'], y=factOK['CANTIDAD']);"
      ],
      "metadata": {
        "id": "pQPmWUE1VpeS"
      },
      "execution_count": null,
      "outputs": []
    },
    {
      "cell_type": "code",
      "source": [
        "import pandas as pd\n",
        "from pandas_profiling import ProfileReport"
      ],
      "metadata": {
        "id": "7lEkORwdY6dw"
      },
      "execution_count": null,
      "outputs": []
    },
    {
      "cell_type": "code",
      "source": [
        "!pip install https://github.com/pandas-profiling/pandas-profiling/archive/master.zip"
      ],
      "metadata": {
        "id": "Czu0H1KLY_Bg"
      },
      "execution_count": null,
      "outputs": []
    },
    {
      "cell_type": "code",
      "source": [
        "prof = ProfileReport(factOK)"
      ],
      "metadata": {
        "id": "Aa5BvPGVZBi_"
      },
      "execution_count": null,
      "outputs": []
    },
    {
      "cell_type": "code",
      "source": [
        "prof"
      ],
      "metadata": {
        "id": "fXTitb77ZF3o"
      },
      "execution_count": null,
      "outputs": []
    },
    {
      "cell_type": "code",
      "source": [
        "corr_df = factOK.corr(method='pearson')\n",
        "\n",
        "plt.figure(figsize=(8, 6))\n",
        "sns.heatmap(corr_df, annot=True)\n",
        "plt.show()"
      ],
      "metadata": {
        "id": "0dX4-CjoJ8mF"
      },
      "execution_count": null,
      "outputs": []
    },
    {
      "cell_type": "code",
      "source": [
        "import pandas as pd\n",
        "import matplotlib.pyplot as plt\n",
        "import seaborn as sns\n",
        "sns.heatmap(factOK.corr())\n",
        "from datetime import datetime, timedelta\n"
      ],
      "metadata": {
        "id": "c7X_cAwfTEtn"
      },
      "execution_count": null,
      "outputs": []
    },
    {
      "cell_type": "code",
      "source": [
        "fig, ax = plt.subplots(figsize = (19, 8))\n",
        "sns.barplot(x='DIA_SEMANA',y='CANTIDAD',data=factOK);\n",
        "plt.xticks(rotation=90);"
      ],
      "metadata": {
        "id": "RUrsC9MFKplR"
      },
      "execution_count": null,
      "outputs": []
    },
    {
      "cell_type": "markdown",
      "source": [
        "# Descripción detallada del Dataset.\n",
        "\n",
        "El dataset a trabajar se llama *FacturasSellOutRC* y esta guardado en el repositorio de [Github](https://raw.githubusercontent.com/Wvanegaz23/Metodos) y el cual tiene las ventas del primer semestre del año 2022 de la linea de chocolate de mesa de la red de venta de supermercados de la RedContigo, estrategia de la empresa Colombiana de comercio y la cual cuenta con aproximadamente 250 establecimientos a nivel nacional, este dataset esta compuesto de la ventas diarias y por horas de los primeros 6 meses del año 2022, con este dataset nuestro objetivo es poder crear un modelo de predicción utilizando Series de tiempo."
      ],
      "metadata": {
        "id": "zbWMNqYokVXR"
      }
    },
    {
      "cell_type": "markdown",
      "source": [
        "# Identificación explicita de las variables.\n",
        "\n"
      ],
      "metadata": {
        "id": "7WtySwCUl557"
      }
    },
    {
      "cell_type": "code",
      "source": [
        "pd.to_datetime(factOK['FECHA_DOCUMENTO'],datetime.date)"
      ],
      "metadata": {
        "id": "13SMqwY1qIVN"
      },
      "execution_count": null,
      "outputs": []
    },
    {
      "cell_type": "markdown",
      "source": [
        "# Descripción escrita y grafica de los datos faltantes."
      ],
      "metadata": {
        "id": "kAltT7pfkatC"
      }
    },
    {
      "cell_type": "markdown",
      "source": [
        "#Uso de técnicas para imputar\n",
        "\n",
        "## Métodos de imputación simples\n",
        "**Imputación mediante la media:** se reemplazan los valores perdidos por la media de los valores observados.\n",
        "\n",
        "**Imputación mediante regresión:** se estima una regresión de las observaciones existentes y se imputa cada valor perdido mediante la ecuación de regresión estimada.\n",
        "\n",
        "**Imputación mediante regresión estocástica:** similar al enterior pero se imputa añadiendo a la predicción un valor residual para reestablecer la pérdida de variabilidad.\n",
        "\n",
        "**Imputación mediante médias móviles:** se reemplazan las observaciones faltantes por los valores estimados mediante médias móviles.\n",
        "\n",
        "**Imputación por Last Observation Carried Forward (locf):** reemplaza el dato perdido por la observacion que le precede.\n",
        "\n",
        "**Imputación por interpolación:** se estiman los valores perdidos interpolando (uniendo de manera lineal, polinomial, etc.) el último valor válido antes del valor perdido y el primer valor válido después del valor perdido.\n",
        "\n",
        "### Métodos de imputación basados en máxima verosimilitud\n",
        "\n",
        "**Imputación múltiple:** consiste en realizar varias imputaciones de las observaciones faltantes para luego analizar los conjuntos de datos completados y combinar los resultados obtenidos para obtener una estimacion final. El análisis de imputación múltiple esta dividido en tres fases: fase de imputacion, fase de análisis y fase de puesta en común.\n",
        "\n",
        "**Imputación mediante el algoritmo EM (Expectation-Maximization):** es un algoritmo importante para el análisis de datos faltantes. Es un método iterativo de dos pasos (esperanza y maximizacion) donde se comienza por reemplazar los datos ausentes por unos valores estimados y a continuación se procede a una primera estimación de los parámetros, para con estos parámetros volver a iniciar al primer paso y así sucesivamente hasta que la convergencia de los parámetros sea aceptable.\n",
        "\n",
        "### Métodos de imputación basados en machine learning\n",
        "**Imputación con K-Nearest Neighbor:** se estiman los valores peridos con la media de los vecinos seleccionados.\n",
        "\n",
        "**Imputación con K-means**\n",
        "**Imputación con máquinas de soporte vectorial**\n",
        "En el ámbito de la imputación, la imputación en series temporales univariantes es un reto adicional, debido a que la mayoría de algoritmos complejos están desarrollados para series temporales multivariantes ya que dependen de la correlación entre los inter-atributos para estimar los valores de los datos perdidos (imputación múltiple, EM, kNN, etc.), algo que no ocurre en el caso univariante (al ser un único atributo). Pero además de los métodos simples, también hay posibilidades adicionales más complejas para la imputación en series temporales univariantes:\n",
        "\n",
        "**Algoritmos multivariantes con datos retardados:** consisten en emplear indirectamente los algoritmos de series multivariantes en series univariantes empleando el tiempo (variable implícita de una serie temporal) como un atributo más. La forma habitual de hacer esto es mediante lags (variables que toman el valor de otra variable en un instante de tiempo previo) y leads (toman el valor de otra variable en un instante de tiempo posterior).\n",
        "\n",
        "**Filtro de Kalman con modelos ARIMA de espacio de estados:** todos los modelos ARIMA pueden ser reescritos (y estimados) como modelos en el espacio de estados. Estos modelos en el espacio de estados pueden entre otras muchas cosas estimar observaciones perdidas. Luego los principales beneficios de representar sistemas dinámicos en forma de espacio de estados es que el espacio de estados permite que las variables no observadas puedan ser incorporadas y estimadas junto con el modelo observable, y que además, estos modelos en el espacio de estados pueden ser analizados usando un algoritmo recursivo llamado filtro de Kalman (Kalman filter), que es usado, entre otras cosas, para determinar las estimaciones óptimas de los modelos en el espacio de estados.\n",
        "\n",
        "(RPubs - Imputación Series de Tiempo, 2021)\n",
        "\n",
        "[RPubs - Imputación Series de Tiempo. (2021, September 2). Rpubs.com.](https://rpubs.com/wilsonsr/804544#:~:text=M%C3%A9todos%20de%20imputaci%C3%B3n%20simples,la%20ecuaci%C3%B3n%20de%20regresi%C3%B3n%20estimada.)\n",
        "\n",
        "‌"
      ],
      "metadata": {
        "id": "HSxynNWSkdOp"
      }
    },
    {
      "cell_type": "markdown",
      "source": [
        "Descripción escrita y grafica de los datos atípicos.\n"
      ],
      "metadata": {
        "id": "0ZeemLvrkfLZ"
      }
    },
    {
      "cell_type": "markdown",
      "source": [
        "Uso técnicas para tratar atípicos.\n"
      ],
      "metadata": {
        "id": "d6rAyEXzkiZq"
      }
    },
    {
      "cell_type": "markdown",
      "source": [
        "Análisis de estacionalidad de la serie de tiempo \n"
      ],
      "metadata": {
        "id": "Urkb5A7IkkF5"
      }
    },
    {
      "cell_type": "markdown",
      "source": [
        "Procesamiento de estacionariedad.\n"
      ],
      "metadata": {
        "id": "3s1KiPp2kluq"
      }
    },
    {
      "cell_type": "markdown",
      "source": [
        "Análisis de tendencia de la serie de tiempo\n"
      ],
      "metadata": {
        "id": "U1SpVHgGknj7"
      }
    },
    {
      "cell_type": "markdown",
      "source": [
        "Procesamiento de eliminación de tendencia.\n"
      ],
      "metadata": {
        "id": "WE6fhD76kpjJ"
      }
    },
    {
      "cell_type": "markdown",
      "source": [
        "Análisis de periodicidad de  la serie de tiempo\n"
      ],
      "metadata": {
        "id": "1lPpDdZ2kqsL"
      }
    },
    {
      "cell_type": "markdown",
      "source": [
        "Análisis de autocorrelación.\n"
      ],
      "metadata": {
        "id": "V9rdlkqMksES"
      }
    },
    {
      "cell_type": "markdown",
      "source": [
        "Estimación de la predictibilidad de la serie de tiempo. \n"
      ],
      "metadata": {
        "id": "jWuHIPuzktjr"
      }
    },
    {
      "cell_type": "markdown",
      "source": [
        "Uso de resultados de preprocesamiento para toma de decisiones"
      ],
      "metadata": {
        "id": "Zjd5x_1Pkvur"
      }
    },
    {
      "cell_type": "markdown",
      "source": [
        "de, U. (2022). Predicción de series temporales con machine learning [YouTube Video]. In YouTube. https://www.youtube.com/watch?v=MlktVhReO0E\n",
        "\n",
        "‌"
      ],
      "metadata": {
        "id": "Nm2Vx1prnYDH"
      }
    }
  ]
}